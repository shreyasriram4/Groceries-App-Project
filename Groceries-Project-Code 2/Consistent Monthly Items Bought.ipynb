{
 "cells": [
  {
   "cell_type": "code",
   "execution_count": 1,
   "id": "34dc2c29",
   "metadata": {},
   "outputs": [],
   "source": [
    "import pandas as pd\n",
    "import seaborn as sns\n",
    "import matplotlib.pyplot as plt\n",
    "from mlxtend.frequent_patterns import apriori #Function for the apriori algorithm\n",
    "from mlxtend.frequent_patterns import association_rules #Function for finding association rules"
   ]
  },
  {
   "cell_type": "code",
   "execution_count": 2,
   "id": "94327b62",
   "metadata": {},
   "outputs": [],
   "source": [
    "# Converting Date in dataset to just year and month\n",
    "transac = pd.read_csv(\"./data/DACC_Hackathon_TransactionData.csv\")\n",
    "transac['Panel ID'] = transac['Panel ID'].astype(int)\n",
    "transac['Date'] = transac['Date'].str[:7]"
   ]
  },
  {
   "cell_type": "code",
   "execution_count": 3,
   "id": "b7d18a40",
   "metadata": {},
   "outputs": [
    {
     "data": {
      "text/html": [
       "<div>\n",
       "<style scoped>\n",
       "    .dataframe tbody tr th:only-of-type {\n",
       "        vertical-align: middle;\n",
       "    }\n",
       "\n",
       "    .dataframe tbody tr th {\n",
       "        vertical-align: top;\n",
       "    }\n",
       "\n",
       "    .dataframe thead th {\n",
       "        text-align: right;\n",
       "    }\n",
       "</style>\n",
       "<table border=\"1\" class=\"dataframe\">\n",
       "  <thead>\n",
       "    <tr style=\"text-align: right;\">\n",
       "      <th></th>\n",
       "      <th>Panel ID</th>\n",
       "      <th>Date</th>\n",
       "      <th>Category</th>\n",
       "      <th>Pack Size</th>\n",
       "      <th>Volume</th>\n",
       "      <th>Spend</th>\n",
       "    </tr>\n",
       "  </thead>\n",
       "  <tbody>\n",
       "    <tr>\n",
       "      <th>0</th>\n",
       "      <td>101011101</td>\n",
       "      <td>2018-04</td>\n",
       "      <td>SUGAR</td>\n",
       "      <td>2.0</td>\n",
       "      <td>2.0</td>\n",
       "      <td>5.9</td>\n",
       "    </tr>\n",
       "    <tr>\n",
       "      <th>1</th>\n",
       "      <td>101011101</td>\n",
       "      <td>2018-04</td>\n",
       "      <td>COCONUT MILK</td>\n",
       "      <td>3.0</td>\n",
       "      <td>0.6</td>\n",
       "      <td>9.6</td>\n",
       "    </tr>\n",
       "    <tr>\n",
       "      <th>2</th>\n",
       "      <td>101011101</td>\n",
       "      <td>2018-05</td>\n",
       "      <td>CAKE</td>\n",
       "      <td>1.0</td>\n",
       "      <td>0.2</td>\n",
       "      <td>5.0</td>\n",
       "    </tr>\n",
       "    <tr>\n",
       "      <th>3</th>\n",
       "      <td>101011101</td>\n",
       "      <td>2018-05</td>\n",
       "      <td>CAKE</td>\n",
       "      <td>1.0</td>\n",
       "      <td>0.5</td>\n",
       "      <td>5.0</td>\n",
       "    </tr>\n",
       "    <tr>\n",
       "      <th>4</th>\n",
       "      <td>101011101</td>\n",
       "      <td>2018-05</td>\n",
       "      <td>SEASONING POWDER</td>\n",
       "      <td>2.0</td>\n",
       "      <td>0.1</td>\n",
       "      <td>4.2</td>\n",
       "    </tr>\n",
       "  </tbody>\n",
       "</table>\n",
       "</div>"
      ],
      "text/plain": [
       "    Panel ID     Date          Category  Pack Size  Volume  Spend\n",
       "0  101011101  2018-04             SUGAR        2.0     2.0    5.9\n",
       "1  101011101  2018-04      COCONUT MILK        3.0     0.6    9.6\n",
       "2  101011101  2018-05              CAKE        1.0     0.2    5.0\n",
       "3  101011101  2018-05              CAKE        1.0     0.5    5.0\n",
       "4  101011101  2018-05  SEASONING POWDER        2.0     0.1    4.2"
      ]
     },
     "execution_count": 3,
     "metadata": {},
     "output_type": "execute_result"
    }
   ],
   "source": [
    "transac.head()"
   ]
  },
  {
   "cell_type": "code",
   "execution_count": 4,
   "id": "425b1138",
   "metadata": {},
   "outputs": [],
   "source": [
    "# finding volume of each food item purchased per month\n",
    "test = transac.groupby([\"Category\", \"Date\"])['Volume'].sum().unstack()\n",
    "category_date = pd.DataFrame(test).transpose()"
   ]
  },
  {
   "cell_type": "code",
   "execution_count": 5,
   "id": "d253030c",
   "metadata": {
    "scrolled": true
   },
   "outputs": [
    {
     "data": {
      "text/html": [
       "<div>\n",
       "<style scoped>\n",
       "    .dataframe tbody tr th:only-of-type {\n",
       "        vertical-align: middle;\n",
       "    }\n",
       "\n",
       "    .dataframe tbody tr th {\n",
       "        vertical-align: top;\n",
       "    }\n",
       "\n",
       "    .dataframe thead th {\n",
       "        text-align: right;\n",
       "    }\n",
       "</style>\n",
       "<table border=\"1\" class=\"dataframe\">\n",
       "  <thead>\n",
       "    <tr style=\"text-align: right;\">\n",
       "      <th>Category</th>\n",
       "      <th>BEER</th>\n",
       "      <th>BELACAN</th>\n",
       "      <th>BIRD NEST</th>\n",
       "      <th>BISCUITS</th>\n",
       "      <th>BOUILON</th>\n",
       "      <th>BUTTER</th>\n",
       "      <th>CAKE</th>\n",
       "      <th>CANNED PRODUCT</th>\n",
       "      <th>CEREAL BEVERAGE</th>\n",
       "      <th>CEREALS</th>\n",
       "      <th>...</th>\n",
       "      <th>SNACK</th>\n",
       "      <th>SOY MILK</th>\n",
       "      <th>SPAGETTI</th>\n",
       "      <th>SPIRITS</th>\n",
       "      <th>SUGAR</th>\n",
       "      <th>TEA</th>\n",
       "      <th>TONIC FOOD DRINK</th>\n",
       "      <th>WINE</th>\n",
       "      <th>YOGHURT DRINK</th>\n",
       "      <th>YOGHURTS</th>\n",
       "    </tr>\n",
       "    <tr>\n",
       "      <th>Date</th>\n",
       "      <th></th>\n",
       "      <th></th>\n",
       "      <th></th>\n",
       "      <th></th>\n",
       "      <th></th>\n",
       "      <th></th>\n",
       "      <th></th>\n",
       "      <th></th>\n",
       "      <th></th>\n",
       "      <th></th>\n",
       "      <th></th>\n",
       "      <th></th>\n",
       "      <th></th>\n",
       "      <th></th>\n",
       "      <th></th>\n",
       "      <th></th>\n",
       "      <th></th>\n",
       "      <th></th>\n",
       "      <th></th>\n",
       "      <th></th>\n",
       "      <th></th>\n",
       "    </tr>\n",
       "  </thead>\n",
       "  <tbody>\n",
       "    <tr>\n",
       "      <th>2018-04</th>\n",
       "      <td>48.0</td>\n",
       "      <td>0.8</td>\n",
       "      <td>3.5</td>\n",
       "      <td>365.2</td>\n",
       "      <td>19.1</td>\n",
       "      <td>21.0</td>\n",
       "      <td>20.1</td>\n",
       "      <td>123.2</td>\n",
       "      <td>67.0</td>\n",
       "      <td>28.0</td>\n",
       "      <td>...</td>\n",
       "      <td>96.0</td>\n",
       "      <td>99.4</td>\n",
       "      <td>26.4</td>\n",
       "      <td>1.8</td>\n",
       "      <td>1083.2</td>\n",
       "      <td>27.8</td>\n",
       "      <td>366.3</td>\n",
       "      <td>1.4</td>\n",
       "      <td>44.2</td>\n",
       "      <td>32.5</td>\n",
       "    </tr>\n",
       "    <tr>\n",
       "      <th>2018-05</th>\n",
       "      <td>96.3</td>\n",
       "      <td>4.8</td>\n",
       "      <td>4.8</td>\n",
       "      <td>1053.8</td>\n",
       "      <td>67.2</td>\n",
       "      <td>176.4</td>\n",
       "      <td>101.9</td>\n",
       "      <td>525.3</td>\n",
       "      <td>297.1</td>\n",
       "      <td>113.8</td>\n",
       "      <td>...</td>\n",
       "      <td>339.2</td>\n",
       "      <td>513.0</td>\n",
       "      <td>129.6</td>\n",
       "      <td>3.2</td>\n",
       "      <td>3766.3</td>\n",
       "      <td>101.7</td>\n",
       "      <td>1214.5</td>\n",
       "      <td>11.3</td>\n",
       "      <td>204.6</td>\n",
       "      <td>104.7</td>\n",
       "    </tr>\n",
       "    <tr>\n",
       "      <th>2018-06</th>\n",
       "      <td>127.8</td>\n",
       "      <td>6.1</td>\n",
       "      <td>1.4</td>\n",
       "      <td>794.1</td>\n",
       "      <td>73.0</td>\n",
       "      <td>226.7</td>\n",
       "      <td>87.6</td>\n",
       "      <td>505.1</td>\n",
       "      <td>236.7</td>\n",
       "      <td>122.8</td>\n",
       "      <td>...</td>\n",
       "      <td>386.5</td>\n",
       "      <td>580.5</td>\n",
       "      <td>151.2</td>\n",
       "      <td>2.9</td>\n",
       "      <td>4315.5</td>\n",
       "      <td>98.7</td>\n",
       "      <td>1065.4</td>\n",
       "      <td>2.5</td>\n",
       "      <td>206.9</td>\n",
       "      <td>89.9</td>\n",
       "    </tr>\n",
       "    <tr>\n",
       "      <th>2018-07</th>\n",
       "      <td>202.3</td>\n",
       "      <td>7.0</td>\n",
       "      <td>1.6</td>\n",
       "      <td>1328.4</td>\n",
       "      <td>88.1</td>\n",
       "      <td>86.3</td>\n",
       "      <td>109.9</td>\n",
       "      <td>513.3</td>\n",
       "      <td>330.4</td>\n",
       "      <td>106.8</td>\n",
       "      <td>...</td>\n",
       "      <td>407.5</td>\n",
       "      <td>417.5</td>\n",
       "      <td>191.6</td>\n",
       "      <td>4.7</td>\n",
       "      <td>4535.6</td>\n",
       "      <td>138.6</td>\n",
       "      <td>1579.3</td>\n",
       "      <td>9.6</td>\n",
       "      <td>240.6</td>\n",
       "      <td>120.6</td>\n",
       "    </tr>\n",
       "    <tr>\n",
       "      <th>2018-08</th>\n",
       "      <td>187.0</td>\n",
       "      <td>4.9</td>\n",
       "      <td>2.7</td>\n",
       "      <td>1094.1</td>\n",
       "      <td>75.4</td>\n",
       "      <td>60.7</td>\n",
       "      <td>92.6</td>\n",
       "      <td>399.9</td>\n",
       "      <td>239.7</td>\n",
       "      <td>80.1</td>\n",
       "      <td>...</td>\n",
       "      <td>381.2</td>\n",
       "      <td>302.3</td>\n",
       "      <td>109.1</td>\n",
       "      <td>3.8</td>\n",
       "      <td>3669.0</td>\n",
       "      <td>100.4</td>\n",
       "      <td>1157.8</td>\n",
       "      <td>13.3</td>\n",
       "      <td>190.2</td>\n",
       "      <td>89.0</td>\n",
       "    </tr>\n",
       "  </tbody>\n",
       "</table>\n",
       "<p>5 rows × 61 columns</p>\n",
       "</div>"
      ],
      "text/plain": [
       "Category   BEER  BELACAN  BIRD NEST  BISCUITS  BOUILON  BUTTER   CAKE  \\\n",
       "Date                                                                    \n",
       "2018-04    48.0      0.8        3.5     365.2     19.1    21.0   20.1   \n",
       "2018-05    96.3      4.8        4.8    1053.8     67.2   176.4  101.9   \n",
       "2018-06   127.8      6.1        1.4     794.1     73.0   226.7   87.6   \n",
       "2018-07   202.3      7.0        1.6    1328.4     88.1    86.3  109.9   \n",
       "2018-08   187.0      4.9        2.7    1094.1     75.4    60.7   92.6   \n",
       "\n",
       "Category  CANNED PRODUCT  CEREAL BEVERAGE  CEREALS  ...  SNACK  SOY MILK  \\\n",
       "Date                                                ...                    \n",
       "2018-04            123.2             67.0     28.0  ...   96.0      99.4   \n",
       "2018-05            525.3            297.1    113.8  ...  339.2     513.0   \n",
       "2018-06            505.1            236.7    122.8  ...  386.5     580.5   \n",
       "2018-07            513.3            330.4    106.8  ...  407.5     417.5   \n",
       "2018-08            399.9            239.7     80.1  ...  381.2     302.3   \n",
       "\n",
       "Category  SPAGETTI  SPIRITS   SUGAR    TEA  TONIC FOOD DRINK  WINE  \\\n",
       "Date                                                                 \n",
       "2018-04       26.4      1.8  1083.2   27.8             366.3   1.4   \n",
       "2018-05      129.6      3.2  3766.3  101.7            1214.5  11.3   \n",
       "2018-06      151.2      2.9  4315.5   98.7            1065.4   2.5   \n",
       "2018-07      191.6      4.7  4535.6  138.6            1579.3   9.6   \n",
       "2018-08      109.1      3.8  3669.0  100.4            1157.8  13.3   \n",
       "\n",
       "Category  YOGHURT DRINK  YOGHURTS  \n",
       "Date                               \n",
       "2018-04            44.2      32.5  \n",
       "2018-05           204.6     104.7  \n",
       "2018-06           206.9      89.9  \n",
       "2018-07           240.6     120.6  \n",
       "2018-08           190.2      89.0  \n",
       "\n",
       "[5 rows x 61 columns]"
      ]
     },
     "execution_count": 5,
     "metadata": {},
     "output_type": "execute_result"
    }
   ],
   "source": [
    "category_date.head()"
   ]
  },
  {
   "cell_type": "code",
   "execution_count": 6,
   "id": "4ff73b3d",
   "metadata": {
    "scrolled": true
   },
   "outputs": [
    {
     "data": {
      "text/html": [
       "<div>\n",
       "<style scoped>\n",
       "    .dataframe tbody tr th:only-of-type {\n",
       "        vertical-align: middle;\n",
       "    }\n",
       "\n",
       "    .dataframe tbody tr th {\n",
       "        vertical-align: top;\n",
       "    }\n",
       "\n",
       "    .dataframe thead th {\n",
       "        text-align: right;\n",
       "    }\n",
       "</style>\n",
       "<table border=\"1\" class=\"dataframe\">\n",
       "  <thead>\n",
       "    <tr style=\"text-align: right;\">\n",
       "      <th>Category</th>\n",
       "      <th>BEER</th>\n",
       "      <th>BELACAN</th>\n",
       "      <th>BIRD NEST</th>\n",
       "      <th>BISCUITS</th>\n",
       "      <th>BOUILON</th>\n",
       "      <th>BUTTER</th>\n",
       "      <th>CAKE</th>\n",
       "      <th>CANNED PRODUCT</th>\n",
       "      <th>CEREAL BEVERAGE</th>\n",
       "      <th>CEREALS</th>\n",
       "      <th>...</th>\n",
       "      <th>SNACK</th>\n",
       "      <th>SOY MILK</th>\n",
       "      <th>SPAGETTI</th>\n",
       "      <th>SPIRITS</th>\n",
       "      <th>SUGAR</th>\n",
       "      <th>TEA</th>\n",
       "      <th>TONIC FOOD DRINK</th>\n",
       "      <th>WINE</th>\n",
       "      <th>YOGHURT DRINK</th>\n",
       "      <th>YOGHURTS</th>\n",
       "    </tr>\n",
       "    <tr>\n",
       "      <th>Date</th>\n",
       "      <th></th>\n",
       "      <th></th>\n",
       "      <th></th>\n",
       "      <th></th>\n",
       "      <th></th>\n",
       "      <th></th>\n",
       "      <th></th>\n",
       "      <th></th>\n",
       "      <th></th>\n",
       "      <th></th>\n",
       "      <th></th>\n",
       "      <th></th>\n",
       "      <th></th>\n",
       "      <th></th>\n",
       "      <th></th>\n",
       "      <th></th>\n",
       "      <th></th>\n",
       "      <th></th>\n",
       "      <th></th>\n",
       "      <th></th>\n",
       "      <th></th>\n",
       "    </tr>\n",
       "  </thead>\n",
       "  <tbody>\n",
       "    <tr>\n",
       "      <th>2018-04</th>\n",
       "      <td>0.001620</td>\n",
       "      <td>0.000027</td>\n",
       "      <td>0.000118</td>\n",
       "      <td>0.012329</td>\n",
       "      <td>0.000645</td>\n",
       "      <td>0.000709</td>\n",
       "      <td>0.000679</td>\n",
       "      <td>0.004159</td>\n",
       "      <td>0.002262</td>\n",
       "      <td>0.000945</td>\n",
       "      <td>...</td>\n",
       "      <td>0.003241</td>\n",
       "      <td>0.003356</td>\n",
       "      <td>0.000891</td>\n",
       "      <td>0.000061</td>\n",
       "      <td>0.036568</td>\n",
       "      <td>0.000939</td>\n",
       "      <td>0.012366</td>\n",
       "      <td>0.000047</td>\n",
       "      <td>0.001492</td>\n",
       "      <td>0.001097</td>\n",
       "    </tr>\n",
       "    <tr>\n",
       "      <th>2018-05</th>\n",
       "      <td>0.000878</td>\n",
       "      <td>0.000044</td>\n",
       "      <td>0.000044</td>\n",
       "      <td>0.009613</td>\n",
       "      <td>0.000613</td>\n",
       "      <td>0.001609</td>\n",
       "      <td>0.000930</td>\n",
       "      <td>0.004792</td>\n",
       "      <td>0.002710</td>\n",
       "      <td>0.001038</td>\n",
       "      <td>...</td>\n",
       "      <td>0.003094</td>\n",
       "      <td>0.004680</td>\n",
       "      <td>0.001182</td>\n",
       "      <td>0.000029</td>\n",
       "      <td>0.034357</td>\n",
       "      <td>0.000928</td>\n",
       "      <td>0.011079</td>\n",
       "      <td>0.000103</td>\n",
       "      <td>0.001866</td>\n",
       "      <td>0.000955</td>\n",
       "    </tr>\n",
       "    <tr>\n",
       "      <th>2018-06</th>\n",
       "      <td>0.001144</td>\n",
       "      <td>0.000055</td>\n",
       "      <td>0.000013</td>\n",
       "      <td>0.007111</td>\n",
       "      <td>0.000654</td>\n",
       "      <td>0.002030</td>\n",
       "      <td>0.000784</td>\n",
       "      <td>0.004523</td>\n",
       "      <td>0.002120</td>\n",
       "      <td>0.001100</td>\n",
       "      <td>...</td>\n",
       "      <td>0.003461</td>\n",
       "      <td>0.005199</td>\n",
       "      <td>0.001354</td>\n",
       "      <td>0.000026</td>\n",
       "      <td>0.038647</td>\n",
       "      <td>0.000884</td>\n",
       "      <td>0.009541</td>\n",
       "      <td>0.000022</td>\n",
       "      <td>0.001853</td>\n",
       "      <td>0.000805</td>\n",
       "    </tr>\n",
       "    <tr>\n",
       "      <th>2018-07</th>\n",
       "      <td>0.001474</td>\n",
       "      <td>0.000051</td>\n",
       "      <td>0.000012</td>\n",
       "      <td>0.009676</td>\n",
       "      <td>0.000642</td>\n",
       "      <td>0.000629</td>\n",
       "      <td>0.000800</td>\n",
       "      <td>0.003739</td>\n",
       "      <td>0.002407</td>\n",
       "      <td>0.000778</td>\n",
       "      <td>...</td>\n",
       "      <td>0.002968</td>\n",
       "      <td>0.003041</td>\n",
       "      <td>0.001396</td>\n",
       "      <td>0.000034</td>\n",
       "      <td>0.033037</td>\n",
       "      <td>0.001010</td>\n",
       "      <td>0.011503</td>\n",
       "      <td>0.000070</td>\n",
       "      <td>0.001752</td>\n",
       "      <td>0.000878</td>\n",
       "    </tr>\n",
       "    <tr>\n",
       "      <th>2018-08</th>\n",
       "      <td>0.001701</td>\n",
       "      <td>0.000045</td>\n",
       "      <td>0.000025</td>\n",
       "      <td>0.009952</td>\n",
       "      <td>0.000686</td>\n",
       "      <td>0.000552</td>\n",
       "      <td>0.000842</td>\n",
       "      <td>0.003638</td>\n",
       "      <td>0.002180</td>\n",
       "      <td>0.000729</td>\n",
       "      <td>...</td>\n",
       "      <td>0.003467</td>\n",
       "      <td>0.002750</td>\n",
       "      <td>0.000992</td>\n",
       "      <td>0.000035</td>\n",
       "      <td>0.033374</td>\n",
       "      <td>0.000913</td>\n",
       "      <td>0.010532</td>\n",
       "      <td>0.000121</td>\n",
       "      <td>0.001730</td>\n",
       "      <td>0.000810</td>\n",
       "    </tr>\n",
       "  </tbody>\n",
       "</table>\n",
       "<p>5 rows × 61 columns</p>\n",
       "</div>"
      ],
      "text/plain": [
       "Category      BEER   BELACAN  BIRD NEST  BISCUITS   BOUILON    BUTTER  \\\n",
       "Date                                                                    \n",
       "2018-04   0.001620  0.000027   0.000118  0.012329  0.000645  0.000709   \n",
       "2018-05   0.000878  0.000044   0.000044  0.009613  0.000613  0.001609   \n",
       "2018-06   0.001144  0.000055   0.000013  0.007111  0.000654  0.002030   \n",
       "2018-07   0.001474  0.000051   0.000012  0.009676  0.000642  0.000629   \n",
       "2018-08   0.001701  0.000045   0.000025  0.009952  0.000686  0.000552   \n",
       "\n",
       "Category      CAKE  CANNED PRODUCT  CEREAL BEVERAGE   CEREALS  ...     SNACK  \\\n",
       "Date                                                           ...             \n",
       "2018-04   0.000679        0.004159         0.002262  0.000945  ...  0.003241   \n",
       "2018-05   0.000930        0.004792         0.002710  0.001038  ...  0.003094   \n",
       "2018-06   0.000784        0.004523         0.002120  0.001100  ...  0.003461   \n",
       "2018-07   0.000800        0.003739         0.002407  0.000778  ...  0.002968   \n",
       "2018-08   0.000842        0.003638         0.002180  0.000729  ...  0.003467   \n",
       "\n",
       "Category  SOY MILK  SPAGETTI   SPIRITS     SUGAR       TEA  TONIC FOOD DRINK  \\\n",
       "Date                                                                           \n",
       "2018-04   0.003356  0.000891  0.000061  0.036568  0.000939          0.012366   \n",
       "2018-05   0.004680  0.001182  0.000029  0.034357  0.000928          0.011079   \n",
       "2018-06   0.005199  0.001354  0.000026  0.038647  0.000884          0.009541   \n",
       "2018-07   0.003041  0.001396  0.000034  0.033037  0.001010          0.011503   \n",
       "2018-08   0.002750  0.000992  0.000035  0.033374  0.000913          0.010532   \n",
       "\n",
       "Category      WINE  YOGHURT DRINK  YOGHURTS  \n",
       "Date                                         \n",
       "2018-04   0.000047       0.001492  0.001097  \n",
       "2018-05   0.000103       0.001866  0.000955  \n",
       "2018-06   0.000022       0.001853  0.000805  \n",
       "2018-07   0.000070       0.001752  0.000878  \n",
       "2018-08   0.000121       0.001730  0.000810  \n",
       "\n",
       "[5 rows x 61 columns]"
      ]
     },
     "execution_count": 6,
     "metadata": {},
     "output_type": "execute_result"
    }
   ],
   "source": [
    "# finding percentage contribution of each food item to the total volume purchased that month\n",
    "cat_date_percent = category_date.div(category_date.sum(axis=1), axis=0)\n",
    "cat_date_percent.head()"
   ]
  },
  {
   "cell_type": "code",
   "execution_count": 7,
   "id": "903819ec",
   "metadata": {},
   "outputs": [
    {
     "data": {
      "text/plain": [
       "<AxesSubplot:title={'center':'Percent Contribution to Monthly Volume'}, xlabel='Date'>"
      ]
     },
     "execution_count": 7,
     "metadata": {},
     "output_type": "execute_result"
    },
    {
     "data": {
      "image/png": "[encoded data removed]",
      "text/plain": [
       "<Figure size 432x432 with 1 Axes>"
      ]
     },
     "metadata": {
      "needs_background": "light"
     },
     "output_type": "display_data"
    }
   ],
   "source": [
    "#finding items where the difference between maximum percentage volume and minimum percentage volume is > 3%\n",
    "big_range = pd.DataFrame(cat_date_percent.max() - cat_date_percent.min() > 0.03, columns = [\"A\"])\n",
    "test = big_range[big_range[\"A\"] == True].index\n",
    "cat_date_percent[test].plot(title = 'Percent Contribution to Monthly Volume', figsize = (6,6))"
   ]
  },
  {
   "cell_type": "code",
   "execution_count": 8,
   "id": "f9e672e1",
   "metadata": {},
   "outputs": [],
   "source": [
    "# making plots for visualization for each highlighted food item"
   ]
  },
  {
   "cell_type": "code",
   "execution_count": 9,
   "id": "695e59a0-dc61-40a0-87ab-e77eaf67886d",
   "metadata": {},
   "outputs": [
    {
     "data": {
      "text/plain": [
       "<matplotlib.lines.Line2D at 0x1a30d277bb0>"
      ]
     },
     "execution_count": 9,
     "metadata": {},
     "output_type": "execute_result"
    },
    {
     "data": {
      "image/png": "[encoded data removed]",
      "text/plain": [
       "<Figure size 432x288 with 1 Axes>"
      ]
     },
     "metadata": {
      "needs_background": "light"
     },
     "output_type": "display_data"
    }
   ],
   "source": [
    "cat_date_percent[\"EGGS\"].plot(kind=\"line\", title=\"Eggs percentage monthly\")\n",
    "plt.axvline(33, color=\"red\", linestyle=\"--\")"
   ]
  },
  {
   "cell_type": "code",
   "execution_count": 10,
   "id": "16a8656d-2abb-41a6-9ffc-717b443e765b",
   "metadata": {},
   "outputs": [
    {
     "data": {
      "text/plain": [
       "<matplotlib.lines.Line2D at 0x1a30d2ec880>"
      ]
     },
     "execution_count": 10,
     "metadata": {},
     "output_type": "execute_result"
    },
    {
     "data": {
      "image/png": "[encoded data removed]",
      "text/plain": [
       "<Figure size 432x288 with 1 Axes>"
      ]
     },
     "metadata": {
      "needs_background": "light"
     },
     "output_type": "display_data"
    }
   ],
   "source": [
    "cat_date_percent[\"RICE\"].plot(kind=\"line\", title=\"Rice percentage monthly\")\n",
    "plt.axvline(33, color=\"red\", linestyle=\"--\")"
   ]
  },
  {
   "cell_type": "code",
   "execution_count": 11,
   "id": "63430103-16b3-4f4e-9937-ddddb6473c56",
   "metadata": {},
   "outputs": [
    {
     "data": {
      "text/plain": [
       "<matplotlib.lines.Line2D at 0x1a30d34d220>"
      ]
     },
     "execution_count": 11,
     "metadata": {},
     "output_type": "execute_result"
    },
    {
     "data": {
      "image/png": "[encoded data removed]",
      "text/plain": [
       "<Figure size 432x288 with 1 Axes>"
      ]
     },
     "metadata": {
      "needs_background": "light"
     },
     "output_type": "display_data"
    }
   ],
   "source": [
    "cat_date_percent[\"INSTANT NOODLES\"].plot(kind=\"line\", title=\"Instant Noodles percentage monthly\")\n",
    "plt.axvline(33, color=\"red\", linestyle=\"--\")"
   ]
  },
  {
   "cell_type": "code",
   "execution_count": 12,
   "id": "5b1616a8-a2bb-425f-89ea-7b1ea4d4b69b",
   "metadata": {},
   "outputs": [
    {
     "data": {
      "text/plain": [
       "<matplotlib.lines.Line2D at 0x1a30d3aefa0>"
      ]
     },
     "execution_count": 12,
     "metadata": {},
     "output_type": "execute_result"
    },
    {
     "data": {
      "image/png": "[encoded data removed]",
      "text/plain": [
       "<Figure size 432x288 with 1 Axes>"
      ]
     },
     "metadata": {
      "needs_background": "light"
     },
     "output_type": "display_data"
    }
   ],
   "source": [
    "cat_date_percent[\"ISOTONIC DRINKS\"].plot(kind=\"line\", title=\"Isotonic Drinks percentage monthly\")\n",
    "plt.axvline(33, color=\"red\", linestyle=\"--\")"
   ]
  }
 ],
 "metadata": {
  "kernelspec": {
   "display_name": "Python 3",
   "language": "python",
   "name": "python3"
  },
  "language_info": {
   "codemirror_mode": {
    "name": "ipython",
    "version": 3
   },
   "file_extension": ".py",
   "mimetype": "text/x-python",
   "name": "python",
   "nbconvert_exporter": "python",
   "pygments_lexer": "ipython3",
   "version": "3.8.8"
  }
 },
 "nbformat": 4,
 "nbformat_minor": 5
}
