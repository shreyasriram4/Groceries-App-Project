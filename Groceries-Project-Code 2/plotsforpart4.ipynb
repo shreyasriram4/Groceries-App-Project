{
 "cells": [
  {
   "cell_type": "code",
   "execution_count": 1,
   "id": "132f1939-e4b7-409d-943d-bb8b4c4ca0e8",
   "metadata": {},
   "outputs": [],
   "source": [
    "import pandas as pd\n",
    "import numpy as np\n",
    "import seaborn as sns\n",
    "from matplotlib import pyplot as plt\n",
    "import plotly.express as px\n",
    "sns.set_palette(\"husl\")"
   ]
  },
  {
   "cell_type": "code",
   "execution_count": 2,
   "id": "55256860-8dd4-4a29-840f-89893c35c569",
   "metadata": {},
   "outputs": [],
   "source": [
    "calories_demog = pd.read_csv('dailyconsumption.csv')"
   ]
  },
  {
   "cell_type": "code",
   "execution_count": 3,
   "id": "322eb872-b695-42e2-b921-bade96fd1557",
   "metadata": {},
   "outputs": [],
   "source": [
    "to_replace = {\n",
    "    'Income': {'<RM2000 (Low)': 'Low', 'RM2000-RM2999 (Low High)': 'Low High', 'RM3000-RM4999 (Mid Low)': 'Mid Low',\n",
    "              'RM5000-RM7999 (Mid High)': 'Mid High', '>RM7999 (High)': 'High'}\n",
    "}\n",
    "calories_demog.replace(to_replace, inplace = True)"
   ]
  },
  {
   "cell_type": "markdown",
   "id": "85847552-c8c7-4377-b5aa-b9ba718a46ee",
   "metadata": {},
   "source": [
    "### DailyConsumption vs BMI"
   ]
  },
  {
   "cell_type": "code",
   "execution_count": 4,
   "id": "d7c036e0-d55b-4563-9651-7ffea7cb362e",
   "metadata": {},
   "outputs": [
    {
     "data": {
      "text/plain": [
       "<AxesSubplot:xlabel='BMI', ylabel='DailyConsumption'>"
      ]
     },
     "execution_count": 4,
     "metadata": {},
     "output_type": "execute_result"
    },
    {
     "data": {
      "image/png": "[encoded data removed]",
      "text/plain": [
       "<Figure size 432x288 with 1 Axes>"
      ]
     },
     "metadata": {
      "needs_background": "light"
     },
     "output_type": "display_data"
    }
   ],
   "source": [
    "sns.boxplot(x=\"BMI\", y=\"DailyConsumption\", data=calories_demog)"
   ]
  },
  {
   "cell_type": "markdown",
   "id": "d5ca755f-d298-46bc-bb05-874c5f11ad2e",
   "metadata": {},
   "source": [
    "### Quantile of DailyConsumption in each BMI group"
   ]
  },
  {
   "cell_type": "code",
   "execution_count": 5,
   "id": "cdf7901b-ced7-45f0-a68f-c14f5b835554",
   "metadata": {},
   "outputs": [
    {
     "data": {
      "text/html": [
       "<div>\n",
       "<style scoped>\n",
       "    .dataframe tbody tr th:only-of-type {\n",
       "        vertical-align: middle;\n",
       "    }\n",
       "\n",
       "    .dataframe tbody tr th {\n",
       "        vertical-align: top;\n",
       "    }\n",
       "\n",
       "    .dataframe thead tr th {\n",
       "        text-align: left;\n",
       "    }\n",
       "\n",
       "    .dataframe thead tr:last-of-type th {\n",
       "        text-align: right;\n",
       "    }\n",
       "</style>\n",
       "<table border=\"1\" class=\"dataframe\">\n",
       "  <thead>\n",
       "    <tr>\n",
       "      <th></th>\n",
       "      <th colspan=\"3\" halign=\"left\">DailyConsumption</th>\n",
       "    </tr>\n",
       "    <tr>\n",
       "      <th></th>\n",
       "      <th>median</th>\n",
       "      <th>q_25th</th>\n",
       "      <th>q_75th</th>\n",
       "    </tr>\n",
       "    <tr>\n",
       "      <th>BMI</th>\n",
       "      <th></th>\n",
       "      <th></th>\n",
       "      <th></th>\n",
       "    </tr>\n",
       "  </thead>\n",
       "  <tbody>\n",
       "    <tr>\n",
       "      <th>Healthy</th>\n",
       "      <td>2150.260000</td>\n",
       "      <td>1417.314700</td>\n",
       "      <td>3065.026020</td>\n",
       "    </tr>\n",
       "    <tr>\n",
       "      <th>Not Available</th>\n",
       "      <td>2189.982206</td>\n",
       "      <td>1334.157341</td>\n",
       "      <td>3285.810191</td>\n",
       "    </tr>\n",
       "    <tr>\n",
       "      <th>Obese</th>\n",
       "      <td>2643.922685</td>\n",
       "      <td>1694.961214</td>\n",
       "      <td>3758.778989</td>\n",
       "    </tr>\n",
       "    <tr>\n",
       "      <th>Over Weight</th>\n",
       "      <td>2541.295400</td>\n",
       "      <td>1698.233104</td>\n",
       "      <td>3582.410754</td>\n",
       "    </tr>\n",
       "    <tr>\n",
       "      <th>Under Weight</th>\n",
       "      <td>2208.193223</td>\n",
       "      <td>1438.836439</td>\n",
       "      <td>3426.022059</td>\n",
       "    </tr>\n",
       "  </tbody>\n",
       "</table>\n",
       "</div>"
      ],
      "text/plain": [
       "              DailyConsumption                          \n",
       "                        median       q_25th       q_75th\n",
       "BMI                                                     \n",
       "Healthy            2150.260000  1417.314700  3065.026020\n",
       "Not Available      2189.982206  1334.157341  3285.810191\n",
       "Obese              2643.922685  1694.961214  3758.778989\n",
       "Over Weight        2541.295400  1698.233104  3582.410754\n",
       "Under Weight       2208.193223  1438.836439  3426.022059"
      ]
     },
     "execution_count": 5,
     "metadata": {},
     "output_type": "execute_result"
    }
   ],
   "source": [
    "def q_25th(x):\n",
    "    return x.quantile(0.25)\n",
    "\n",
    "def q_75th(x):\n",
    "    return x.quantile(0.75)\n",
    "\n",
    "f = {'DailyConsumption': ['median', q_25th, q_75th]}\n",
    "per = calories_demog.groupby('BMI').agg(f)\n",
    "per"
   ]
  },
  {
   "cell_type": "markdown",
   "id": "e510e615-4984-48b3-ae1d-4b4e4957062d",
   "metadata": {},
   "source": [
    "### DailyConsumption vs Ethnicity"
   ]
  },
  {
   "cell_type": "code",
   "execution_count": 6,
   "id": "a1742a33-7e28-45be-96f6-e84861a872f8",
   "metadata": {},
   "outputs": [
    {
     "data": {
      "text/plain": [
       "<AxesSubplot:xlabel='Ethnicity', ylabel='DailyConsumption'>"
      ]
     },
     "execution_count": 6,
     "metadata": {},
     "output_type": "execute_result"
    },
    {
     "data": {
      "image/png": "[encoded data removed]",
      "text/plain": [
       "<Figure size 432x288 with 1 Axes>"
      ]
     },
     "metadata": {
      "needs_background": "light"
     },
     "output_type": "display_data"
    }
   ],
   "source": [
    "sns.boxplot(x=\"Ethnicity\", y=\"DailyConsumption\", data=calories_demog)"
   ]
  },
  {
   "cell_type": "markdown",
   "id": "658bb95b-ea2e-431e-b6e6-78a320b4761d",
   "metadata": {},
   "source": [
    "### DailyConsumption vs Income "
   ]
  },
  {
   "cell_type": "code",
   "execution_count": 7,
   "id": "ccfe11c4-6fe3-46c0-b8ce-4fcf0f02c2ee",
   "metadata": {},
   "outputs": [
    {
     "data": {
      "text/plain": [
       "<AxesSubplot:xlabel='Income', ylabel='DailyConsumption'>"
      ]
     },
     "execution_count": 7,
     "metadata": {},
     "output_type": "execute_result"
    },
    {
     "data": {
      "image/png": "[encoded data removed]",
      "text/plain": [
       "<Figure size 432x288 with 1 Axes>"
      ]
     },
     "metadata": {
      "needs_background": "light"
     },
     "output_type": "display_data"
    }
   ],
   "source": [
    "sns.boxplot(x=\"Income\", y=\"DailyConsumption\", data=calories_demog)"
   ]
  },
  {
   "cell_type": "markdown",
   "id": "67c717e8-0e67-449b-b184-2f596f697230",
   "metadata": {},
   "source": [
    "### DailyConsumption vs LifeStage "
   ]
  },
  {
   "cell_type": "code",
   "execution_count": 8,
   "id": "fc1affbd-a7db-4e7d-ba22-7f8074a3ad52",
   "metadata": {},
   "outputs": [
    {
     "data": {
      "image/png": "[encoded data removed]",
      "text/plain": [
       "<Figure size 432x288 with 1 Axes>"
      ]
     },
     "metadata": {
      "needs_background": "light"
     },
     "output_type": "display_data"
    }
   ],
   "source": [
    "ax = sns.boxplot(x=\"Lifestage\", y=\"DailyConsumption\", data=calories_demog)\n",
    "\n",
    "ax.set_xticklabels(ax.get_xticklabels(), rotation=40, ha=\"right\")\n",
    "plt.tight_layout()\n",
    "plt.show()"
   ]
  }
 ],
 "metadata": {
  "kernelspec": {
   "display_name": "Python 3",
   "language": "python",
   "name": "python3"
  },
  "language_info": {
   "codemirror_mode": {
    "name": "ipython",
    "version": 3
   },
   "file_extension": ".py",
   "mimetype": "text/x-python",
   "name": "python",
   "nbconvert_exporter": "python",
   "pygments_lexer": "ipython3",
   "version": "3.8.8"
  }
 },
 "nbformat": 4,
 "nbformat_minor": 5
}
