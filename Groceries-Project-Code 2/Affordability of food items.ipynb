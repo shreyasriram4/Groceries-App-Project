{
 "cells": [
  {
   "cell_type": "code",
   "execution_count": 1,
   "id": "7b354d51",
   "metadata": {},
   "outputs": [],
   "source": [
    "import pandas as pd\n",
    "import numpy as np\n",
    "from scipy.stats import pointbiserialr"
   ]
  },
  {
   "cell_type": "code",
   "execution_count": 2,
   "id": "c07da610",
   "metadata": {},
   "outputs": [
    {
     "data": {
      "text/plain": [
       "array(['Beer', 'Belacan', 'Bird Nest', 'Biscuits', 'Bouilon', 'Butter',\n",
       "       'Cake', 'Canned Product', 'Cereal Beverage', 'Cereals', 'Cheese',\n",
       "       'Chicken Essence', 'Choc/Nut Spread', 'Chocolate', 'Coconut Milk',\n",
       "       'Coffee', 'Condensed/Evap Milk', 'Confectionery', 'Cooking Oils',\n",
       "       'Cooking Sauces', 'Cordials', 'Creamer', 'CSD', 'Cultured Milk',\n",
       "       'Drinking Water', 'Eggs', 'Energy Drinks', 'Flour', 'Frozen Food',\n",
       "       'Fruit/Veg Juices', 'Ghee', 'Honey', 'Ice Cream',\n",
       "       'Instant Noodles', 'Instant Soup', 'Isotonic Drinks', 'Jam',\n",
       "       'Kaya', 'Liquid Milk', 'Margarine', 'Milk Powder-Adult',\n",
       "       'Milk Powder-Infant', 'Milk Powder-Kids', 'MSG', 'Peanut Butter',\n",
       "       'Rice', 'RTD Coffee', 'RTD Tea', 'Salad Dressing',\n",
       "       'Savoury Spread', 'Seasoning Powder', 'Snack', 'Soy Milk',\n",
       "       'Spagetti', 'Spirits', 'Sugar', 'Tea', 'Tonic Food Drink', 'Wine',\n",
       "       'Yoghurt Drink', 'Yoghurts'], dtype=object)"
      ]
     },
     "execution_count": 2,
     "metadata": {},
     "output_type": "execute_result"
    }
   ],
   "source": [
    "cat_info = pd.read_excel(\"./data/DACC_Hackathon_Categories_Information.xlsx\")\n",
    "\n",
    "# find calories per volume\n",
    "# a volume is in kg/litres\n",
    "# except for Instant Noodles and Eggs\n",
    "# we assume each volumem of egg is 1 egg or 50g, so Calories/Volume is (calories per 100g)/2 = 97/2 = 48.5 calories\n",
    "# we assume each volume of instant noodles is 100g, so Calories/Volume is the same as Calories/100g = 431 calories\n",
    "\n",
    "CaloriesPerVol = pd.DataFrame(cat_info['Calories/100g'] * 10)\n",
    "cat_info.insert(3, \"Calories/Volume\", CaloriesPerVol)\n",
    "#pd.set_option(\"display.max_rows\", 5)\n",
    "cat_info.at[25, 'Calories/Volume'] = 48.5 #eggs\n",
    "cat_info.at[33, 'Calories/Volume'] = 431 #instant noodles\n",
    "cat_info['Category'].unique()"
   ]
  },
  {
   "cell_type": "code",
   "execution_count": 3,
   "id": "54259cf8",
   "metadata": {},
   "outputs": [
    {
     "name": "stderr",
     "output_type": "stream",
     "text": [
      "<ipython-input-3-a39815b39e5c>:2: SettingWithCopyWarning: \n",
      "A value is trying to be set on a copy of a slice from a DataFrame.\n",
      "Try using .loc[row_indexer,col_indexer] = value instead\n",
      "\n",
      "See the caveats in the documentation: https://pandas.pydata.org/pandas-docs/stable/user_guide/indexing.html#returning-a-view-versus-a-copy\n",
      "  cat_cal_per_vol['Category'] = cat_cal_per_vol['Category'].str.upper()\n"
     ]
    }
   ],
   "source": [
    "cat_cal_per_vol = cat_info[['Category', 'Calories/Volume']]\n",
    "cat_cal_per_vol['Category'] = cat_cal_per_vol['Category'].str.upper()\n",
    "#cat_cal_per_vol\n"
   ]
  },
  {
   "cell_type": "code",
   "execution_count": 4,
   "id": "fd0d8d6a",
   "metadata": {},
   "outputs": [],
   "source": [
    "transac = pd.read_csv(\"./data/DACC_Hackathon_TransactionData.csv\")\n",
    "transac['Panel ID'] = transac['Panel ID'].astype(int)\n",
    "#transac"
   ]
  },
  {
   "cell_type": "code",
   "execution_count": 5,
   "id": "f918e509",
   "metadata": {
    "scrolled": true
   },
   "outputs": [],
   "source": [
    "panel_demog = pd.read_excel(\"./data/DACC_Hackathon_Panelists_Demogs.xlsx\") \n",
    "panel_demog['ID'] = panel_demog['ID'].str[6:].astype(int)\n",
    "#panel_demog.head(20)"
   ]
  },
  {
   "cell_type": "markdown",
   "id": "a399d2a9",
   "metadata": {},
   "source": [
    "# Items that low income family buys the most"
   ]
  },
  {
   "cell_type": "code",
   "execution_count": 6,
   "id": "60704f65",
   "metadata": {},
   "outputs": [],
   "source": [
    "lowincome_panel = list(panel_demog[panel_demog['Income'] == '<RM2000 (Low)' ]['ID'])"
   ]
  },
  {
   "cell_type": "code",
   "execution_count": 7,
   "id": "f89c4ee6",
   "metadata": {},
   "outputs": [],
   "source": [
    "#lowincome transaction\n",
    "low = transac[transac['Panel ID'].isin(lowincome_panel)]"
   ]
  },
  {
   "cell_type": "code",
   "execution_count": 8,
   "id": "b6111523",
   "metadata": {},
   "outputs": [],
   "source": [
    "low_spend = low.groupby('Category').count().sort_values(by = 'Panel ID', ascending = False)\n",
    "#we can tell biscuits, eggs, sugar, cooking sauce and condensed milk,rice are most bought items for low income family\n",
    "low_spend = low_spend.add_suffix('_Count').reset_index()\n",
    "low_spend = low_spend.head(20)"
   ]
  },
  {
   "cell_type": "code",
   "execution_count": 9,
   "id": "c4b910b1",
   "metadata": {},
   "outputs": [],
   "source": [
    "x = low_spend['Category']"
   ]
  },
  {
   "cell_type": "code",
   "execution_count": 10,
   "id": "35c09598",
   "metadata": {},
   "outputs": [],
   "source": [
    "y = low_spend['Panel ID_Count']"
   ]
  },
  {
   "cell_type": "code",
   "execution_count": 11,
   "id": "fa843fde",
   "metadata": {},
   "outputs": [
    {
     "data": {
      "text/plain": [
       "Text(0, 0.5, 'Frequency')"
      ]
     },
     "execution_count": 11,
     "metadata": {},
     "output_type": "execute_result"
    },
    {
     "data": {
      "image/png": "[encoded data removed]",
      "text/plain": [
       "<Figure size 432x288 with 1 Axes>"
      ]
     },
     "metadata": {
      "needs_background": "light"
     },
     "output_type": "display_data"
    }
   ],
   "source": [
    "import matplotlib.pyplot as plt\n",
    "plt.bar(x,y)\n",
    "plt.xticks(rotation = 90)\n",
    "plt.title('Top food items purchased by low income family')\n",
    "plt.xlabel('Food items')\n",
    "plt.ylabel('Frequency')"
   ]
  },
  {
   "cell_type": "code",
   "execution_count": 12,
   "id": "884ba133",
   "metadata": {},
   "outputs": [
    {
     "data": {
      "text/html": [
       "<div>\n",
       "<style scoped>\n",
       "    .dataframe tbody tr th:only-of-type {\n",
       "        vertical-align: middle;\n",
       "    }\n",
       "\n",
       "    .dataframe tbody tr th {\n",
       "        vertical-align: top;\n",
       "    }\n",
       "\n",
       "    .dataframe thead th {\n",
       "        text-align: right;\n",
       "    }\n",
       "</style>\n",
       "<table border=\"1\" class=\"dataframe\">\n",
       "  <thead>\n",
       "    <tr style=\"text-align: right;\">\n",
       "      <th></th>\n",
       "      <th></th>\n",
       "      <th>Pack Size</th>\n",
       "      <th>Volume</th>\n",
       "      <th>Spend</th>\n",
       "    </tr>\n",
       "    <tr>\n",
       "      <th>Panel ID</th>\n",
       "      <th>Category</th>\n",
       "      <th></th>\n",
       "      <th></th>\n",
       "      <th></th>\n",
       "    </tr>\n",
       "  </thead>\n",
       "  <tbody>\n",
       "    <tr>\n",
       "      <th rowspan=\"5\" valign=\"top\">101011101</th>\n",
       "      <th>BISCUITS</th>\n",
       "      <td>1.160000</td>\n",
       "      <td>0.352000</td>\n",
       "      <td>5.356000</td>\n",
       "    </tr>\n",
       "    <tr>\n",
       "      <th>BOUILON</th>\n",
       "      <td>1.000000</td>\n",
       "      <td>0.100000</td>\n",
       "      <td>2.887500</td>\n",
       "    </tr>\n",
       "    <tr>\n",
       "      <th>BUTTER</th>\n",
       "      <td>2.500000</td>\n",
       "      <td>0.650000</td>\n",
       "      <td>11.350000</td>\n",
       "    </tr>\n",
       "    <tr>\n",
       "      <th>CAKE</th>\n",
       "      <td>1.000000</td>\n",
       "      <td>0.333333</td>\n",
       "      <td>5.233333</td>\n",
       "    </tr>\n",
       "    <tr>\n",
       "      <th>CANNED PRODUCT</th>\n",
       "      <td>1.357143</td>\n",
       "      <td>0.314286</td>\n",
       "      <td>5.128571</td>\n",
       "    </tr>\n",
       "    <tr>\n",
       "      <th>...</th>\n",
       "      <th>...</th>\n",
       "      <td>...</td>\n",
       "      <td>...</td>\n",
       "      <td>...</td>\n",
       "    </tr>\n",
       "    <tr>\n",
       "      <th rowspan=\"5\" valign=\"top\">802304101</th>\n",
       "      <th>RICE</th>\n",
       "      <td>1.000000</td>\n",
       "      <td>10.000000</td>\n",
       "      <td>26.650000</td>\n",
       "    </tr>\n",
       "    <tr>\n",
       "      <th>SNACK</th>\n",
       "      <td>1.000000</td>\n",
       "      <td>0.150000</td>\n",
       "      <td>3.200000</td>\n",
       "    </tr>\n",
       "    <tr>\n",
       "      <th>SUGAR</th>\n",
       "      <td>2.500000</td>\n",
       "      <td>2.500000</td>\n",
       "      <td>6.850000</td>\n",
       "    </tr>\n",
       "    <tr>\n",
       "      <th>TEA</th>\n",
       "      <td>1.000000</td>\n",
       "      <td>0.000000</td>\n",
       "      <td>2.500000</td>\n",
       "    </tr>\n",
       "    <tr>\n",
       "      <th>TONIC FOOD DRINK</th>\n",
       "      <td>1.000000</td>\n",
       "      <td>1.000000</td>\n",
       "      <td>16.000000</td>\n",
       "    </tr>\n",
       "  </tbody>\n",
       "</table>\n",
       "<p>25664 rows × 3 columns</p>\n",
       "</div>"
      ],
      "text/plain": [
       "                            Pack Size     Volume      Spend\n",
       "Panel ID  Category                                         \n",
       "101011101 BISCUITS           1.160000   0.352000   5.356000\n",
       "          BOUILON            1.000000   0.100000   2.887500\n",
       "          BUTTER             2.500000   0.650000  11.350000\n",
       "          CAKE               1.000000   0.333333   5.233333\n",
       "          CANNED PRODUCT     1.357143   0.314286   5.128571\n",
       "...                               ...        ...        ...\n",
       "802304101 RICE               1.000000  10.000000  26.650000\n",
       "          SNACK              1.000000   0.150000   3.200000\n",
       "          SUGAR              2.500000   2.500000   6.850000\n",
       "          TEA                1.000000   0.000000   2.500000\n",
       "          TONIC FOOD DRINK   1.000000   1.000000  16.000000\n",
       "\n",
       "[25664 rows x 3 columns]"
      ]
     },
     "execution_count": 12,
     "metadata": {},
     "output_type": "execute_result"
    }
   ],
   "source": [
    "low.groupby(['Panel ID', 'Category']).mean()"
   ]
  },
  {
   "cell_type": "code",
   "execution_count": 13,
   "id": "fab8f9bd",
   "metadata": {},
   "outputs": [],
   "source": [
    "#each panel ID rice\n"
   ]
  },
  {
   "cell_type": "code",
   "execution_count": 14,
   "id": "f4dbcf95",
   "metadata": {},
   "outputs": [
    {
     "data": {
      "text/html": [
       "<div>\n",
       "<style scoped>\n",
       "    .dataframe tbody tr th:only-of-type {\n",
       "        vertical-align: middle;\n",
       "    }\n",
       "\n",
       "    .dataframe tbody tr th {\n",
       "        vertical-align: top;\n",
       "    }\n",
       "\n",
       "    .dataframe thead th {\n",
       "        text-align: right;\n",
       "    }\n",
       "</style>\n",
       "<table border=\"1\" class=\"dataframe\">\n",
       "  <thead>\n",
       "    <tr style=\"text-align: right;\">\n",
       "      <th></th>\n",
       "      <th>Pack Size</th>\n",
       "      <th>Volume</th>\n",
       "      <th>Spend</th>\n",
       "    </tr>\n",
       "    <tr>\n",
       "      <th>Panel ID</th>\n",
       "      <th></th>\n",
       "      <th></th>\n",
       "      <th></th>\n",
       "    </tr>\n",
       "  </thead>\n",
       "  <tbody>\n",
       "    <tr>\n",
       "      <th>101011101</th>\n",
       "      <td>57.0</td>\n",
       "      <td>373.0</td>\n",
       "      <td>1052.9</td>\n",
       "    </tr>\n",
       "    <tr>\n",
       "      <th>101016101</th>\n",
       "      <td>23.0</td>\n",
       "      <td>165.0</td>\n",
       "      <td>410.4</td>\n",
       "    </tr>\n",
       "    <tr>\n",
       "      <th>101019101</th>\n",
       "      <td>97.0</td>\n",
       "      <td>740.0</td>\n",
       "      <td>1821.0</td>\n",
       "    </tr>\n",
       "    <tr>\n",
       "      <th>101024101</th>\n",
       "      <td>27.0</td>\n",
       "      <td>230.0</td>\n",
       "      <td>628.9</td>\n",
       "    </tr>\n",
       "    <tr>\n",
       "      <th>105009103</th>\n",
       "      <td>17.0</td>\n",
       "      <td>150.0</td>\n",
       "      <td>377.5</td>\n",
       "    </tr>\n",
       "    <tr>\n",
       "      <th>...</th>\n",
       "      <td>...</td>\n",
       "      <td>...</td>\n",
       "      <td>...</td>\n",
       "    </tr>\n",
       "    <tr>\n",
       "      <th>802289501</th>\n",
       "      <td>1.0</td>\n",
       "      <td>10.0</td>\n",
       "      <td>25.8</td>\n",
       "    </tr>\n",
       "    <tr>\n",
       "      <th>802293801</th>\n",
       "      <td>6.0</td>\n",
       "      <td>30.0</td>\n",
       "      <td>81.0</td>\n",
       "    </tr>\n",
       "    <tr>\n",
       "      <th>802296501</th>\n",
       "      <td>3.0</td>\n",
       "      <td>25.0</td>\n",
       "      <td>66.0</td>\n",
       "    </tr>\n",
       "    <tr>\n",
       "      <th>802303301</th>\n",
       "      <td>1.0</td>\n",
       "      <td>10.0</td>\n",
       "      <td>26.0</td>\n",
       "    </tr>\n",
       "    <tr>\n",
       "      <th>802304101</th>\n",
       "      <td>2.0</td>\n",
       "      <td>20.0</td>\n",
       "      <td>53.3</td>\n",
       "    </tr>\n",
       "  </tbody>\n",
       "</table>\n",
       "<p>918 rows × 3 columns</p>\n",
       "</div>"
      ],
      "text/plain": [
       "           Pack Size  Volume   Spend\n",
       "Panel ID                            \n",
       "101011101       57.0   373.0  1052.9\n",
       "101016101       23.0   165.0   410.4\n",
       "101019101       97.0   740.0  1821.0\n",
       "101024101       27.0   230.0   628.9\n",
       "105009103       17.0   150.0   377.5\n",
       "...              ...     ...     ...\n",
       "802289501        1.0    10.0    25.8\n",
       "802293801        6.0    30.0    81.0\n",
       "802296501        3.0    25.0    66.0\n",
       "802303301        1.0    10.0    26.0\n",
       "802304101        2.0    20.0    53.3\n",
       "\n",
       "[918 rows x 3 columns]"
      ]
     },
     "execution_count": 14,
     "metadata": {},
     "output_type": "execute_result"
    }
   ],
   "source": [
    "#how much each panel ID spent on rice\n",
    "low[low['Category'] == 'RICE'].groupby(['Panel ID']).sum()"
   ]
  },
  {
   "cell_type": "code",
   "execution_count": 16,
   "id": "e9aa8fd3",
   "metadata": {},
   "outputs": [
    {
     "ename": "FileNotFoundError",
     "evalue": "[Errno 2] No such file or directory: 'dates_min_max.csv'",
     "output_type": "error",
     "traceback": [
      "\u001b[1;31m---------------------------------------------------------------------------\u001b[0m",
      "\u001b[1;31mFileNotFoundError\u001b[0m                         Traceback (most recent call last)",
      "\u001b[1;32m<ipython-input-16-d5c147da619c>\u001b[0m in \u001b[0;36m<module>\u001b[1;34m\u001b[0m\n\u001b[0;32m      1\u001b[0m \u001b[1;31m#read in previously made csv that finds each panel's first and last transaction\u001b[0m\u001b[1;33m\u001b[0m\u001b[1;33m\u001b[0m\u001b[1;33m\u001b[0m\u001b[0m\n\u001b[1;32m----> 2\u001b[1;33m \u001b[0mdates\u001b[0m \u001b[1;33m=\u001b[0m \u001b[0mpd\u001b[0m\u001b[1;33m.\u001b[0m\u001b[0mread_csv\u001b[0m\u001b[1;33m(\u001b[0m\u001b[1;34m'dates_min_max.csv'\u001b[0m\u001b[1;33m)\u001b[0m\u001b[1;33m\u001b[0m\u001b[1;33m\u001b[0m\u001b[0m\n\u001b[0m\u001b[0;32m      3\u001b[0m \u001b[0mdates\u001b[0m\u001b[1;33m\u001b[0m\u001b[1;33m\u001b[0m\u001b[0m\n",
      "\u001b[1;32m~\\anaconda3\\lib\\site-packages\\pandas\\io\\parsers.py\u001b[0m in \u001b[0;36mread_csv\u001b[1;34m(filepath_or_buffer, sep, delimiter, header, names, index_col, usecols, squeeze, prefix, mangle_dupe_cols, dtype, engine, converters, true_values, false_values, skipinitialspace, skiprows, skipfooter, nrows, na_values, keep_default_na, na_filter, verbose, skip_blank_lines, parse_dates, infer_datetime_format, keep_date_col, date_parser, dayfirst, cache_dates, iterator, chunksize, compression, thousands, decimal, lineterminator, quotechar, quoting, doublequote, escapechar, comment, encoding, dialect, error_bad_lines, warn_bad_lines, delim_whitespace, low_memory, memory_map, float_precision, storage_options)\u001b[0m\n\u001b[0;32m    608\u001b[0m     \u001b[0mkwds\u001b[0m\u001b[1;33m.\u001b[0m\u001b[0mupdate\u001b[0m\u001b[1;33m(\u001b[0m\u001b[0mkwds_defaults\u001b[0m\u001b[1;33m)\u001b[0m\u001b[1;33m\u001b[0m\u001b[1;33m\u001b[0m\u001b[0m\n\u001b[0;32m    609\u001b[0m \u001b[1;33m\u001b[0m\u001b[0m\n\u001b[1;32m--> 610\u001b[1;33m     \u001b[1;32mreturn\u001b[0m \u001b[0m_read\u001b[0m\u001b[1;33m(\u001b[0m\u001b[0mfilepath_or_buffer\u001b[0m\u001b[1;33m,\u001b[0m \u001b[0mkwds\u001b[0m\u001b[1;33m)\u001b[0m\u001b[1;33m\u001b[0m\u001b[1;33m\u001b[0m\u001b[0m\n\u001b[0m\u001b[0;32m    611\u001b[0m \u001b[1;33m\u001b[0m\u001b[0m\n\u001b[0;32m    612\u001b[0m \u001b[1;33m\u001b[0m\u001b[0m\n",
      "\u001b[1;32m~\\anaconda3\\lib\\site-packages\\pandas\\io\\parsers.py\u001b[0m in \u001b[0;36m_read\u001b[1;34m(filepath_or_buffer, kwds)\u001b[0m\n\u001b[0;32m    460\u001b[0m \u001b[1;33m\u001b[0m\u001b[0m\n\u001b[0;32m    461\u001b[0m     \u001b[1;31m# Create the parser.\u001b[0m\u001b[1;33m\u001b[0m\u001b[1;33m\u001b[0m\u001b[1;33m\u001b[0m\u001b[0m\n\u001b[1;32m--> 462\u001b[1;33m     \u001b[0mparser\u001b[0m \u001b[1;33m=\u001b[0m \u001b[0mTextFileReader\u001b[0m\u001b[1;33m(\u001b[0m\u001b[0mfilepath_or_buffer\u001b[0m\u001b[1;33m,\u001b[0m \u001b[1;33m**\u001b[0m\u001b[0mkwds\u001b[0m\u001b[1;33m)\u001b[0m\u001b[1;33m\u001b[0m\u001b[1;33m\u001b[0m\u001b[0m\n\u001b[0m\u001b[0;32m    463\u001b[0m \u001b[1;33m\u001b[0m\u001b[0m\n\u001b[0;32m    464\u001b[0m     \u001b[1;32mif\u001b[0m \u001b[0mchunksize\u001b[0m \u001b[1;32mor\u001b[0m \u001b[0miterator\u001b[0m\u001b[1;33m:\u001b[0m\u001b[1;33m\u001b[0m\u001b[1;33m\u001b[0m\u001b[0m\n",
      "\u001b[1;32m~\\anaconda3\\lib\\site-packages\\pandas\\io\\parsers.py\u001b[0m in \u001b[0;36m__init__\u001b[1;34m(self, f, engine, **kwds)\u001b[0m\n\u001b[0;32m    817\u001b[0m             \u001b[0mself\u001b[0m\u001b[1;33m.\u001b[0m\u001b[0moptions\u001b[0m\u001b[1;33m[\u001b[0m\u001b[1;34m\"has_index_names\"\u001b[0m\u001b[1;33m]\u001b[0m \u001b[1;33m=\u001b[0m \u001b[0mkwds\u001b[0m\u001b[1;33m[\u001b[0m\u001b[1;34m\"has_index_names\"\u001b[0m\u001b[1;33m]\u001b[0m\u001b[1;33m\u001b[0m\u001b[1;33m\u001b[0m\u001b[0m\n\u001b[0;32m    818\u001b[0m \u001b[1;33m\u001b[0m\u001b[0m\n\u001b[1;32m--> 819\u001b[1;33m         \u001b[0mself\u001b[0m\u001b[1;33m.\u001b[0m\u001b[0m_engine\u001b[0m \u001b[1;33m=\u001b[0m \u001b[0mself\u001b[0m\u001b[1;33m.\u001b[0m\u001b[0m_make_engine\u001b[0m\u001b[1;33m(\u001b[0m\u001b[0mself\u001b[0m\u001b[1;33m.\u001b[0m\u001b[0mengine\u001b[0m\u001b[1;33m)\u001b[0m\u001b[1;33m\u001b[0m\u001b[1;33m\u001b[0m\u001b[0m\n\u001b[0m\u001b[0;32m    820\u001b[0m \u001b[1;33m\u001b[0m\u001b[0m\n\u001b[0;32m    821\u001b[0m     \u001b[1;32mdef\u001b[0m \u001b[0mclose\u001b[0m\u001b[1;33m(\u001b[0m\u001b[0mself\u001b[0m\u001b[1;33m)\u001b[0m\u001b[1;33m:\u001b[0m\u001b[1;33m\u001b[0m\u001b[1;33m\u001b[0m\u001b[0m\n",
      "\u001b[1;32m~\\anaconda3\\lib\\site-packages\\pandas\\io\\parsers.py\u001b[0m in \u001b[0;36m_make_engine\u001b[1;34m(self, engine)\u001b[0m\n\u001b[0;32m   1048\u001b[0m             )\n\u001b[0;32m   1049\u001b[0m         \u001b[1;31m# error: Too many arguments for \"ParserBase\"\u001b[0m\u001b[1;33m\u001b[0m\u001b[1;33m\u001b[0m\u001b[1;33m\u001b[0m\u001b[0m\n\u001b[1;32m-> 1050\u001b[1;33m         \u001b[1;32mreturn\u001b[0m \u001b[0mmapping\u001b[0m\u001b[1;33m[\u001b[0m\u001b[0mengine\u001b[0m\u001b[1;33m]\u001b[0m\u001b[1;33m(\u001b[0m\u001b[0mself\u001b[0m\u001b[1;33m.\u001b[0m\u001b[0mf\u001b[0m\u001b[1;33m,\u001b[0m \u001b[1;33m**\u001b[0m\u001b[0mself\u001b[0m\u001b[1;33m.\u001b[0m\u001b[0moptions\u001b[0m\u001b[1;33m)\u001b[0m  \u001b[1;31m# type: ignore[call-arg]\u001b[0m\u001b[1;33m\u001b[0m\u001b[1;33m\u001b[0m\u001b[0m\n\u001b[0m\u001b[0;32m   1051\u001b[0m \u001b[1;33m\u001b[0m\u001b[0m\n\u001b[0;32m   1052\u001b[0m     \u001b[1;32mdef\u001b[0m \u001b[0m_failover_to_python\u001b[0m\u001b[1;33m(\u001b[0m\u001b[0mself\u001b[0m\u001b[1;33m)\u001b[0m\u001b[1;33m:\u001b[0m\u001b[1;33m\u001b[0m\u001b[1;33m\u001b[0m\u001b[0m\n",
      "\u001b[1;32m~\\anaconda3\\lib\\site-packages\\pandas\\io\\parsers.py\u001b[0m in \u001b[0;36m__init__\u001b[1;34m(self, src, **kwds)\u001b[0m\n\u001b[0;32m   1865\u001b[0m \u001b[1;33m\u001b[0m\u001b[0m\n\u001b[0;32m   1866\u001b[0m         \u001b[1;31m# open handles\u001b[0m\u001b[1;33m\u001b[0m\u001b[1;33m\u001b[0m\u001b[1;33m\u001b[0m\u001b[0m\n\u001b[1;32m-> 1867\u001b[1;33m         \u001b[0mself\u001b[0m\u001b[1;33m.\u001b[0m\u001b[0m_open_handles\u001b[0m\u001b[1;33m(\u001b[0m\u001b[0msrc\u001b[0m\u001b[1;33m,\u001b[0m \u001b[0mkwds\u001b[0m\u001b[1;33m)\u001b[0m\u001b[1;33m\u001b[0m\u001b[1;33m\u001b[0m\u001b[0m\n\u001b[0m\u001b[0;32m   1868\u001b[0m         \u001b[1;32massert\u001b[0m \u001b[0mself\u001b[0m\u001b[1;33m.\u001b[0m\u001b[0mhandles\u001b[0m \u001b[1;32mis\u001b[0m \u001b[1;32mnot\u001b[0m \u001b[1;32mNone\u001b[0m\u001b[1;33m\u001b[0m\u001b[1;33m\u001b[0m\u001b[0m\n\u001b[0;32m   1869\u001b[0m         \u001b[1;32mfor\u001b[0m \u001b[0mkey\u001b[0m \u001b[1;32min\u001b[0m \u001b[1;33m(\u001b[0m\u001b[1;34m\"storage_options\"\u001b[0m\u001b[1;33m,\u001b[0m \u001b[1;34m\"encoding\"\u001b[0m\u001b[1;33m,\u001b[0m \u001b[1;34m\"memory_map\"\u001b[0m\u001b[1;33m,\u001b[0m \u001b[1;34m\"compression\"\u001b[0m\u001b[1;33m)\u001b[0m\u001b[1;33m:\u001b[0m\u001b[1;33m\u001b[0m\u001b[1;33m\u001b[0m\u001b[0m\n",
      "\u001b[1;32m~\\anaconda3\\lib\\site-packages\\pandas\\io\\parsers.py\u001b[0m in \u001b[0;36m_open_handles\u001b[1;34m(self, src, kwds)\u001b[0m\n\u001b[0;32m   1360\u001b[0m         \u001b[0mLet\u001b[0m \u001b[0mthe\u001b[0m \u001b[0mreaders\u001b[0m \u001b[0mopen\u001b[0m \u001b[0mIOHanldes\u001b[0m \u001b[0mafter\u001b[0m \u001b[0mthey\u001b[0m \u001b[0mare\u001b[0m \u001b[0mdone\u001b[0m \u001b[1;32mwith\u001b[0m \u001b[0mtheir\u001b[0m \u001b[0mpotential\u001b[0m \u001b[0mraises\u001b[0m\u001b[1;33m.\u001b[0m\u001b[1;33m\u001b[0m\u001b[1;33m\u001b[0m\u001b[0m\n\u001b[0;32m   1361\u001b[0m         \"\"\"\n\u001b[1;32m-> 1362\u001b[1;33m         self.handles = get_handle(\n\u001b[0m\u001b[0;32m   1363\u001b[0m             \u001b[0msrc\u001b[0m\u001b[1;33m,\u001b[0m\u001b[1;33m\u001b[0m\u001b[1;33m\u001b[0m\u001b[0m\n\u001b[0;32m   1364\u001b[0m             \u001b[1;34m\"r\"\u001b[0m\u001b[1;33m,\u001b[0m\u001b[1;33m\u001b[0m\u001b[1;33m\u001b[0m\u001b[0m\n",
      "\u001b[1;32m~\\anaconda3\\lib\\site-packages\\pandas\\io\\common.py\u001b[0m in \u001b[0;36mget_handle\u001b[1;34m(path_or_buf, mode, encoding, compression, memory_map, is_text, errors, storage_options)\u001b[0m\n\u001b[0;32m    640\u001b[0m                 \u001b[0merrors\u001b[0m \u001b[1;33m=\u001b[0m \u001b[1;34m\"replace\"\u001b[0m\u001b[1;33m\u001b[0m\u001b[1;33m\u001b[0m\u001b[0m\n\u001b[0;32m    641\u001b[0m             \u001b[1;31m# Encoding\u001b[0m\u001b[1;33m\u001b[0m\u001b[1;33m\u001b[0m\u001b[1;33m\u001b[0m\u001b[0m\n\u001b[1;32m--> 642\u001b[1;33m             handle = open(\n\u001b[0m\u001b[0;32m    643\u001b[0m                 \u001b[0mhandle\u001b[0m\u001b[1;33m,\u001b[0m\u001b[1;33m\u001b[0m\u001b[1;33m\u001b[0m\u001b[0m\n\u001b[0;32m    644\u001b[0m                 \u001b[0mioargs\u001b[0m\u001b[1;33m.\u001b[0m\u001b[0mmode\u001b[0m\u001b[1;33m,\u001b[0m\u001b[1;33m\u001b[0m\u001b[1;33m\u001b[0m\u001b[0m\n",
      "\u001b[1;31mFileNotFoundError\u001b[0m: [Errno 2] No such file or directory: 'dates_min_max.csv'"
     ]
    }
   ],
   "source": [
    "#read in previously made csv that finds each panel's first and last transaction\n",
    "dates = pd.read_csv('dates_min_max.csv')\n",
    "dates"
   ]
  },
  {
   "cell_type": "code",
   "execution_count": null,
   "id": "43d4f5c3",
   "metadata": {},
   "outputs": [],
   "source": [
    "#convert to datetime\n",
    "dates = dates.iloc[1: , :]\n",
    "dates['Date.1'] = pd.to_datetime(dates['Date.1'])\n",
    "dates['Date.2'] = pd.to_datetime(dates['Date.2'])\n",
    "dates"
   ]
  },
  {
   "cell_type": "code",
   "execution_count": null,
   "id": "02697067",
   "metadata": {},
   "outputs": [],
   "source": [
    "#to find the number of months between the first and the last transaction\n",
    "def diff_month(d1,d2):\n",
    "    return (d2.year - d1.year) *12 + d2.month - d1.month"
   ]
  },
  {
   "cell_type": "code",
   "execution_count": null,
   "id": "367fb5c9",
   "metadata": {
    "scrolled": false
   },
   "outputs": [],
   "source": [
    "month = []\n",
    "for indedx, rows in dates.iterrows():\n",
    "    month.append(diff_month(rows['Date.1'], rows['Date.2']))\n",
    "month\n",
    "dates['month'] = month\n",
    "dates['Panel ID'] = dates['Panel ID'].apply(round)\n",
    "#dates"
   ]
  },
  {
   "cell_type": "code",
   "execution_count": null,
   "id": "cd43fc4f",
   "metadata": {
    "scrolled": true
   },
   "outputs": [],
   "source": [
    "#how much each panel ID spent on rice\n",
    "rice = low[low['Category'] == 'RICE'].groupby(['Panel ID']).sum()\n",
    "rice"
   ]
  },
  {
   "cell_type": "code",
   "execution_count": null,
   "id": "728c9cf8",
   "metadata": {},
   "outputs": [],
   "source": [
    "item = 'BISCUITS'\n",
    "item_table = low[low['Category'] == items].groupby(['Panel ID']).sum()\n",
    "panel_month_spend = pd.DataFrame.merge(dates, item_table, left_on='Panel ID', right_on='Panel ID')\n",
    "panel_month_spend['monthly_spent'] = panel_month_spend['Spend']/ panel_month_spend['month']\n",
    "new_rice = panel_month_spend[['Panel ID','month','Spend','monthly_spent']]\n",
    "new_rice.replace([np.inf, -np.inf], np.nan, inplace=True)\n",
    "new_rice.dropna()\n",
    "new_rice.boxplot(column = 'monthly_spent')\n",
    "plt.title(item)"
   ]
  },
  {
   "cell_type": "code",
   "execution_count": null,
   "id": "3c803a09",
   "metadata": {},
   "outputs": [],
   "source": [
    "#For each of the top 5 items bought by low income family, how much do low income family spent on these food \n",
    "#Done by taking the total amount spent dividing by the number of months since the first and last transaction\n",
    "\n",
    "unique = ['BISCUITS', 'EGGS','SUGAR','COOKING SAUCES','RICE']\n",
    "for items in unique:\n",
    "    item_table = low[low['Category'] == items].groupby(['Panel ID']).sum()\n",
    "    panel_month_spend = pd.DataFrame.merge(dates, item_table, left_on='Panel ID', right_on='Panel ID')\n",
    "    panel_month_spend['monthly_spent'] = panel_month_spend['Spend']/ panel_month_spend['month']\n",
    "    new_rice = panel_month_spend[['Panel ID','month','Spend','monthly_spent']]\n",
    "    new_rice.replace([np.inf, -np.inf], np.nan, inplace=True)\n",
    "    print(items + \"+ \")\n",
    "    print(new_rice.describe())"
   ]
  }
 ],
 "metadata": {
  "kernelspec": {
   "display_name": "Python 3",
   "language": "python",
   "name": "python3"
  },
  "language_info": {
   "codemirror_mode": {
    "name": "ipython",
    "version": 3
   },
   "file_extension": ".py",
   "mimetype": "text/x-python",
   "name": "python",
   "nbconvert_exporter": "python",
   "pygments_lexer": "ipython3",
   "version": "3.8.8"
  }
 },
 "nbformat": 4,
 "nbformat_minor": 5
}
